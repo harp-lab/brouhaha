{
 "cells": [
  {
   "cell_type": "code",
   "execution_count": 39,
   "metadata": {},
   "outputs": [],
   "source": [
    "from pathlib import Path\n",
    "import subprocess\n",
    "import re"
   ]
  },
  {
   "cell_type": "code",
   "execution_count": 40,
   "metadata": {},
   "outputs": [],
   "source": [
    "def get_tests():\n",
    "    testing_dir = \"./tests\"\n",
    "    tests = []\n",
    "    for directory in Path(testing_dir).iterdir():\n",
    "        if directory.is_dir():\n",
    "            tests.append(directory.name)\n",
    "    return tests"
   ]
  },
  {
   "cell_type": "code",
   "execution_count": 41,
   "metadata": {},
   "outputs": [],
   "source": [
    "def get_lines_covered(command):\n",
    "    process = subprocess.Popen(command, shell=True, stdout=subprocess.PIPE)\n",
    "    output = process.communicate()[0].decode(\"utf-8\")\n",
    "    match = list(set(re.findall(\":([0-9]*)]\", output, re.MULTILINE)))\n",
    "    match = [int(x) for x in match]\n",
    "    match.sort()\n",
    "    return match"
   ]
  },
  {
   "cell_type": "code",
   "execution_count": 42,
   "metadata": {},
   "outputs": [],
   "source": [
    "def run_tests():\n",
    "    tests = get_tests()\n",
    "    # tests = [\"easy\"]\n",
    "    test_stats ={}\n",
    "    for test in tests:\n",
    "        cmd_string = \"racket test.rkt \"+test\n",
    "        test_stats[test] = get_lines_covered(cmd_string)\n",
    "    return test_stats"
   ]
  },
  {
   "cell_type": "code",
   "execution_count": 43,
   "metadata": {},
   "outputs": [],
   "source": [
    "def stats(test_stats, lines_to_cover):\n",
    "    lines_covered =[]\n",
    "    for k in test_stats.keys():\n",
    "        lines_covered.extend(test_stats[k])\n",
    "    lines_covered = list(set(lines_covered))\n",
    "    lines_covered.sort()\n",
    "    return lines_covered"
   ]
  },
  {
   "cell_type": "code",
   "execution_count": 60,
   "metadata": {},
   "outputs": [
    {
     "name": "stdout",
     "output_type": "stream",
     "text": [
      "Number of tests ran:  61\n"
     ]
    }
   ],
   "source": [
    "test_stats = run_tests()\n",
    "print(\"Number of tests ran: \",len(test_stats))\n",
    "# print(test_stats)"
   ]
  },
  {
   "cell_type": "code",
   "execution_count": 64,
   "metadata": {},
   "outputs": [
    {
     "ename": "TypeError",
     "evalue": "unsupported operand type(s) for -: 'str' and 'int'",
     "output_type": "error",
     "traceback": [
      "\u001b[0;31m---------------------------------------------------------------------------\u001b[0m",
      "\u001b[0;31mTypeError\u001b[0m                                 Traceback (most recent call last)",
      "Cell \u001b[0;32mIn[64], line 8\u001b[0m\n\u001b[1;32m      1\u001b[0m lines_to_cover\u001b[39m=\u001b[39m {\u001b[39m\"\u001b[39m\u001b[39mdesugar\u001b[39m\u001b[39m\"\u001b[39m : [\u001b[39m40\u001b[39m, \u001b[39m41\u001b[39m, \u001b[39m42\u001b[39m, \u001b[39m45\u001b[39m, \u001b[39m46\u001b[39m, \u001b[39m47\u001b[39m, \u001b[39m48\u001b[39m, \u001b[39m49\u001b[39m, \u001b[39m51\u001b[39m, \u001b[39m52\u001b[39m, \u001b[39m54\u001b[39m, \u001b[39m55\u001b[39m, \u001b[39m56\u001b[39m, \u001b[39m57\u001b[39m, \u001b[39m58\u001b[39m, \u001b[39m59\u001b[39m, \u001b[39m60\u001b[39m, \u001b[39m61\u001b[39m, \u001b[39m62\u001b[39m, \u001b[39m63\u001b[39m, \u001b[39m64\u001b[39m, \u001b[39m65\u001b[39m, \u001b[39m66\u001b[39m, \u001b[39m67\u001b[39m, \u001b[39m72\u001b[39m, \u001b[39m76\u001b[39m, \u001b[39m80\u001b[39m],\n\u001b[1;32m      2\u001b[0m                  \u001b[39m\"\u001b[39m\u001b[39malphatize\u001b[39m\u001b[39m\"\u001b[39m: [\u001b[39m91\u001b[39m, \u001b[39m95\u001b[39m, \u001b[39m99\u001b[39m, \u001b[39m100\u001b[39m, \u001b[39m101\u001b[39m, \u001b[39m103\u001b[39m, \u001b[39m104\u001b[39m, \u001b[39m105\u001b[39m, \u001b[39m106\u001b[39m, \u001b[39m107\u001b[39m, \u001b[39m108\u001b[39m, \u001b[39m113\u001b[39m, \u001b[39m117\u001b[39m],\n\u001b[1;32m      3\u001b[0m                  \u001b[39m\"\u001b[39m\u001b[39manf_convert\u001b[39m\u001b[39m\"\u001b[39m: [\u001b[39m135\u001b[39m, \u001b[39m141\u001b[39m, \u001b[39m142\u001b[39m, \u001b[39m145\u001b[39m, \u001b[39m152\u001b[39m, \u001b[39m153\u001b[39m, \u001b[39m157\u001b[39m, \u001b[39m158\u001b[39m, \u001b[39m160\u001b[39m, \u001b[39m161\u001b[39m, \u001b[39m162\u001b[39m, \u001b[39m163\u001b[39m, \u001b[39m164\u001b[39m, \u001b[39m166\u001b[39m, \u001b[39m168\u001b[39m, \u001b[39m169\u001b[39m, \u001b[39m170\u001b[39m, \u001b[39m171\u001b[39m, \u001b[39m172\u001b[39m],\n\u001b[1;32m      4\u001b[0m                  \u001b[39m\"\u001b[39m\u001b[39mcps_convert\u001b[39m\u001b[39m\"\u001b[39m: [\u001b[39m179\u001b[39m, \u001b[39m183\u001b[39m, \u001b[39m184\u001b[39m, \u001b[39m185\u001b[39m, \u001b[39m188\u001b[39m, \u001b[39m191\u001b[39m, \u001b[39m192\u001b[39m, \u001b[39m195\u001b[39m, \u001b[39m198\u001b[39m, \u001b[39m200\u001b[39m, \u001b[39m202\u001b[39m, \u001b[39m203\u001b[39m, \u001b[39m204\u001b[39m, \u001b[39m206\u001b[39m, \u001b[39m208\u001b[39m, \u001b[39m209\u001b[39m, \u001b[39m212\u001b[39m, \u001b[39m213\u001b[39m, \u001b[39m219\u001b[39m, \u001b[39m225\u001b[39m],\n\u001b[1;32m      5\u001b[0m                  \u001b[39m\"\u001b[39m\u001b[39mclosure_conv\u001b[39m\u001b[39m\"\u001b[39m: [\u001b[39m231\u001b[39m, \u001b[39m235\u001b[39m, \u001b[39m242\u001b[39m, \u001b[39m247\u001b[39m, \u001b[39m261\u001b[39m, \u001b[39m277\u001b[39m, \u001b[39m283\u001b[39m, \u001b[39m284\u001b[39m, \u001b[39m285\u001b[39m, \u001b[39m294\u001b[39m]\n\u001b[1;32m      6\u001b[0m                  }\n\u001b[1;32m      7\u001b[0m \u001b[39mfor\u001b[39;00m k \u001b[39min\u001b[39;00m lines_to_cover\u001b[39m.\u001b[39mkeys():\n\u001b[0;32m----> 8\u001b[0m     lines_to_cover[k] \u001b[39m=\u001b[39m [k\u001b[39m-\u001b[39;49m\u001b[39m3\u001b[39;49m \u001b[39mfor\u001b[39;49;00m val \u001b[39min\u001b[39;49;00m lines_to_cover[k]]\n",
      "Cell \u001b[0;32mIn[64], line 8\u001b[0m, in \u001b[0;36m<listcomp>\u001b[0;34m(.0)\u001b[0m\n\u001b[1;32m      1\u001b[0m lines_to_cover\u001b[39m=\u001b[39m {\u001b[39m\"\u001b[39m\u001b[39mdesugar\u001b[39m\u001b[39m\"\u001b[39m : [\u001b[39m40\u001b[39m, \u001b[39m41\u001b[39m, \u001b[39m42\u001b[39m, \u001b[39m45\u001b[39m, \u001b[39m46\u001b[39m, \u001b[39m47\u001b[39m, \u001b[39m48\u001b[39m, \u001b[39m49\u001b[39m, \u001b[39m51\u001b[39m, \u001b[39m52\u001b[39m, \u001b[39m54\u001b[39m, \u001b[39m55\u001b[39m, \u001b[39m56\u001b[39m, \u001b[39m57\u001b[39m, \u001b[39m58\u001b[39m, \u001b[39m59\u001b[39m, \u001b[39m60\u001b[39m, \u001b[39m61\u001b[39m, \u001b[39m62\u001b[39m, \u001b[39m63\u001b[39m, \u001b[39m64\u001b[39m, \u001b[39m65\u001b[39m, \u001b[39m66\u001b[39m, \u001b[39m67\u001b[39m, \u001b[39m72\u001b[39m, \u001b[39m76\u001b[39m, \u001b[39m80\u001b[39m],\n\u001b[1;32m      2\u001b[0m                  \u001b[39m\"\u001b[39m\u001b[39malphatize\u001b[39m\u001b[39m\"\u001b[39m: [\u001b[39m91\u001b[39m, \u001b[39m95\u001b[39m, \u001b[39m99\u001b[39m, \u001b[39m100\u001b[39m, \u001b[39m101\u001b[39m, \u001b[39m103\u001b[39m, \u001b[39m104\u001b[39m, \u001b[39m105\u001b[39m, \u001b[39m106\u001b[39m, \u001b[39m107\u001b[39m, \u001b[39m108\u001b[39m, \u001b[39m113\u001b[39m, \u001b[39m117\u001b[39m],\n\u001b[1;32m      3\u001b[0m                  \u001b[39m\"\u001b[39m\u001b[39manf_convert\u001b[39m\u001b[39m\"\u001b[39m: [\u001b[39m135\u001b[39m, \u001b[39m141\u001b[39m, \u001b[39m142\u001b[39m, \u001b[39m145\u001b[39m, \u001b[39m152\u001b[39m, \u001b[39m153\u001b[39m, \u001b[39m157\u001b[39m, \u001b[39m158\u001b[39m, \u001b[39m160\u001b[39m, \u001b[39m161\u001b[39m, \u001b[39m162\u001b[39m, \u001b[39m163\u001b[39m, \u001b[39m164\u001b[39m, \u001b[39m166\u001b[39m, \u001b[39m168\u001b[39m, \u001b[39m169\u001b[39m, \u001b[39m170\u001b[39m, \u001b[39m171\u001b[39m, \u001b[39m172\u001b[39m],\n\u001b[1;32m      4\u001b[0m                  \u001b[39m\"\u001b[39m\u001b[39mcps_convert\u001b[39m\u001b[39m\"\u001b[39m: [\u001b[39m179\u001b[39m, \u001b[39m183\u001b[39m, \u001b[39m184\u001b[39m, \u001b[39m185\u001b[39m, \u001b[39m188\u001b[39m, \u001b[39m191\u001b[39m, \u001b[39m192\u001b[39m, \u001b[39m195\u001b[39m, \u001b[39m198\u001b[39m, \u001b[39m200\u001b[39m, \u001b[39m202\u001b[39m, \u001b[39m203\u001b[39m, \u001b[39m204\u001b[39m, \u001b[39m206\u001b[39m, \u001b[39m208\u001b[39m, \u001b[39m209\u001b[39m, \u001b[39m212\u001b[39m, \u001b[39m213\u001b[39m, \u001b[39m219\u001b[39m, \u001b[39m225\u001b[39m],\n\u001b[1;32m      5\u001b[0m                  \u001b[39m\"\u001b[39m\u001b[39mclosure_conv\u001b[39m\u001b[39m\"\u001b[39m: [\u001b[39m231\u001b[39m, \u001b[39m235\u001b[39m, \u001b[39m242\u001b[39m, \u001b[39m247\u001b[39m, \u001b[39m261\u001b[39m, \u001b[39m277\u001b[39m, \u001b[39m283\u001b[39m, \u001b[39m284\u001b[39m, \u001b[39m285\u001b[39m, \u001b[39m294\u001b[39m]\n\u001b[1;32m      6\u001b[0m                  }\n\u001b[1;32m      7\u001b[0m \u001b[39mfor\u001b[39;00m k \u001b[39min\u001b[39;00m lines_to_cover\u001b[39m.\u001b[39mkeys():\n\u001b[0;32m----> 8\u001b[0m     lines_to_cover[k] \u001b[39m=\u001b[39m [k\u001b[39m-\u001b[39;49m\u001b[39m3\u001b[39;49m \u001b[39mfor\u001b[39;00m val \u001b[39min\u001b[39;00m lines_to_cover[k]]\n",
      "\u001b[0;31mTypeError\u001b[0m: unsupported operand type(s) for -: 'str' and 'int'"
     ]
    }
   ],
   "source": [
    "lines_to_cover= {\"desugar\" : [40, 41, 42, 45, 46, 47, 48, 49, 51, 52, 54, 55, 56, 57, 58, 59, 60, 61, 62, 63, 64, 65, 66, 67, 72, 76, 80],\n",
    "                 \"alphatize\": [91, 95, 99, 100, 101, 103, 104, 105, 106, 107, 108, 113, 117],\n",
    "                 \"anf_convert\": [135, 141, 142, 145, 152, 153, 157, 158, 160, 161, 162, 163, 164, 166, 168, 169, 170, 171, 172],\n",
    "                 \"cps_convert\": [179, 183, 184, 185, 188, 191, 192, 195, 198, 200, 202, 203, 204, 206, 208, 209, 212, 213, 219, 225],\n",
    "                 \"closure_conv\": [231, 235, 242, 247, 261, 277, 283, 284, 285, 294]\n",
    "                 }\n",
    "for k in lines_to_cover.keys():\n",
    "    lines_to_cover[k] = [val-3 for val in lines_to_cover[k]]"
   ]
  },
  {
   "cell_type": "code",
   "execution_count": 63,
   "metadata": {},
   "outputs": [
    {
     "name": "stdout",
     "output_type": "stream",
     "text": [
      "{'desugar': [40, 41, 47, 54, 55, 56, 57, 58, 65, 66, 67, 72, 76, 80], 'alphatize': [91, 95, 99, 103, 106, 107, 108, 113, 117], 'anf_convert': [135, 141, 145, 152, 153, 157, 162, 164, 170, 171, 172], 'cps_convert': [179, 183, 184, 188, 191, 192, 195, 198, 202, 203, 204, 208, 212, 213, 219, 225], 'closure_conv': [231, 235, 242, 247, 261, 277, 283, 284, 285, 294]}\n"
     ]
    }
   ],
   "source": [
    "val = stats(test_stats, lines_to_cover)\n",
    "val.sort()\n",
    "# print(val)\n",
    "untouched_lines = {}\n",
    "for stage in lines_to_cover.keys():\n",
    "    untouched_lines[stage] = lines_to_cover[stage]\n",
    "    for k in val:\n",
    "        if k in lines_to_cover[stage]:\n",
    "            untouched_lines[stage].remove(k)\n",
    "print(untouched_lines)\n",
    "\n"
   ]
  }
 ],
 "metadata": {
  "kernelspec": {
   "display_name": "Python 3",
   "language": "python",
   "name": "python3"
  },
  "language_info": {
   "codemirror_mode": {
    "name": "ipython",
    "version": 3
   },
   "file_extension": ".py",
   "mimetype": "text/x-python",
   "name": "python",
   "nbconvert_exporter": "python",
   "pygments_lexer": "ipython3",
   "version": "3.11.3"
  },
  "orig_nbformat": 4
 },
 "nbformat": 4,
 "nbformat_minor": 2
}
