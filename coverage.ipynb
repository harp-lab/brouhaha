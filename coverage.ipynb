{
 "cells": [
  {
   "cell_type": "code",
   "execution_count": 70,
   "metadata": {},
   "outputs": [],
   "source": [
    "from pathlib import Path\n",
    "import subprocess\n",
    "import re"
   ]
  },
  {
   "cell_type": "code",
   "execution_count": 71,
   "metadata": {},
   "outputs": [],
   "source": [
    "def get_tests():\n",
    "    testing_dir = \"./tests\"\n",
    "    tests = []\n",
    "    for directory in Path(testing_dir).iterdir():\n",
    "        if directory.is_dir():\n",
    "            tests.append(directory.name)\n",
    "    return tests"
   ]
  },
  {
   "cell_type": "code",
   "execution_count": 72,
   "metadata": {},
   "outputs": [],
   "source": [
    "def get_lines_covered(command):\n",
    "    process = subprocess.Popen(command, shell=True, stdout=subprocess.PIPE)\n",
    "    output = process.communicate()[0].decode(\"utf-8\")\n",
    "    match = list(set(re.findall(\":([0-9]*)]\", output, re.MULTILINE)))\n",
    "    match = [int(x) for x in match]\n",
    "    match.sort()\n",
    "    return match"
   ]
  },
  {
   "cell_type": "code",
   "execution_count": 73,
   "metadata": {},
   "outputs": [],
   "source": [
    "def run_tests():\n",
    "    tests = get_tests()\n",
    "    # tests = [\"easy\"]\n",
    "    test_stats ={}\n",
    "    for test in tests:\n",
    "        cmd_string = \"racket test.rkt \"+test\n",
    "        test_stats[test] = get_lines_covered(cmd_string)\n",
    "    return test_stats"
   ]
  },
  {
   "cell_type": "code",
   "execution_count": 74,
   "metadata": {},
   "outputs": [],
   "source": [
    "def stats(test_stats, lines_to_cover):\n",
    "    lines_covered =[]\n",
    "    for k in test_stats.keys():\n",
    "        lines_covered.extend(test_stats[k])\n",
    "    lines_covered = list(set(lines_covered))\n",
    "    lines_covered.sort()\n",
    "    return lines_covered"
   ]
  },
  {
   "cell_type": "code",
   "execution_count": 75,
   "metadata": {},
   "outputs": [
    {
     "name": "stdout",
     "output_type": "stream",
     "text": [
      "Number of tests ran:  61\n"
     ]
    }
   ],
   "source": [
    "test_stats = run_tests()\n",
    "print(\"Number of tests ran: \",len(test_stats))\n",
    "# print(test_stats)"
   ]
  },
  {
   "cell_type": "code",
   "execution_count": 76,
   "metadata": {},
   "outputs": [],
   "source": [
    "lines_to_cover= {\"desugar\" : [40, 41, 42, 45, 46, 47, 48, 49, 51, 52, 54, 55, 56, 57, 58, 59, 60, 61, 62, 63, 64, 65, 66, 67, 72, 76, 80],\n",
    "                 \"alphatize\": [91, 95, 99, 100, 101, 103, 104, 105, 106, 107, 108, 113, 117],\n",
    "                 \"anf_convert\": [135, 141, 142, 145, 152, 153, 157, 158, 160, 161, 162, 163, 164, 166, 168, 169, 170, 171, 172],\n",
    "                 \"cps_convert\": [179, 183, 184, 185, 188, 191, 192, 195, 198, 200, 202, 203, 204, 206, 208, 209, 212, 213, 219, 225],\n",
    "                 \"closure_conv\": [231, 235, 242, 247, 261, 277, 283, 284, 285, 294]\n",
    "                 }\n",
    "for k in lines_to_cover.keys():\n",
    "    lines_to_cover[k] = [val-3 for val in lines_to_cover[k]]"
   ]
  },
  {
   "cell_type": "code",
   "execution_count": 77,
   "metadata": {},
   "outputs": [
    {
     "name": "stdout",
     "output_type": "stream",
     "text": [
      "[]\n",
      "{'desugar': [37, 38, 39, 42, 43, 44, 45, 46, 48, 49, 51, 52, 53, 54, 55, 56, 57, 58, 59, 60, 61, 62, 63, 64, 69, 73, 77], 'alphatize': [88, 92, 96, 97, 98, 100, 101, 102, 103, 104, 105, 110, 114], 'anf_convert': [132, 138, 139, 142, 149, 150, 154, 155, 157, 158, 159, 160, 161, 163, 165, 166, 167, 168, 169], 'cps_convert': [176, 180, 181, 182, 185, 188, 189, 192, 195, 197, 199, 200, 201, 203, 205, 206, 209, 210, 216, 222], 'closure_conv': [228, 232, 239, 244, 258, 274, 280, 281, 282, 291]}\n"
     ]
    }
   ],
   "source": [
    "val = stats(test_stats, lines_to_cover)\n",
    "val.sort()\n",
    "print(val)\n",
    "untouched_lines = {}\n",
    "for stage in lines_to_cover.keys():\n",
    "    untouched_lines[stage] = lines_to_cover[stage]\n",
    "    for k in val:\n",
    "        if k in lines_to_cover[stage]:\n",
    "            untouched_lines[stage].remove(k)\n",
    "print(untouched_lines)"
   ]
  },
  {
   "cell_type": "code",
   "execution_count": 79,
   "metadata": {},
   "outputs": [
    {
     "name": "stdout",
     "output_type": "stream",
     "text": [
      "{'app': [], 'hash': [], 'string': [], 'string_length': [], 'yes': [], 'divison': [], 'vararg': [], 'length': [], 'even': [], 'hash_set': [], 'string_append': [], 'reverse': [], 'testing': [], 'setadd': [], 'null': [], 'inner_hashes': [], 'filter': [], 'to_float': [], 'error': [], 'let': [], 'hash_has_key': [], 'interleave': [], 'fact': [], 'hash_ref': [], 'string_huh': [], 'sym_lt': [], 'akshar': [], 'power': [], 'sym_equal': [], 'count_divisors': [], 'modulo': [], 'apply': [], 'nested_if': [], 'substring': [], 'multiply': [], 'or': [], 'to_int': [], 'var': [], 'hash_keys': [], 'float': [], 'list': [], 'minus': [], 'transitive_closure': [], 'and': [], 'sym_lteq': [], 'sym_gt': [], 'string_ref': [], 'set': [], 'easy': [], 'eq': [], 'take': [], 'foldl_style': [], 'not': [], 'minus_float': [], 'lambda': [], 'hash_count': [], 'letstar': [], 'string_to_list': [], 'multiply_float': [], 'member': [], 'sym_gteq': []}\n"
     ]
    }
   ],
   "source": [
    "print(test_stats)\n"
   ]
  }
 ],
 "metadata": {
  "kernelspec": {
   "display_name": "Python 3",
   "language": "python",
   "name": "python3"
  },
  "language_info": {
   "codemirror_mode": {
    "name": "ipython",
    "version": 3
   },
   "file_extension": ".py",
   "mimetype": "text/x-python",
   "name": "python",
   "nbconvert_exporter": "python",
   "pygments_lexer": "ipython3",
   "version": "3.11.3"
  },
  "orig_nbformat": 4
 },
 "nbformat": 4,
 "nbformat_minor": 2
}
